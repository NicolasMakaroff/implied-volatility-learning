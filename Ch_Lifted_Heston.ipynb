{
 "cells": [
  {
   "cell_type": "code",
   "execution_count": 5,
   "metadata": {},
   "outputs": [],
   "source": [
    "import numpy as np\n",
    "np.seterr(divide='ignore', invalid='ignore')\n",
    "import scipy.integrate as integrate\n",
    "from scipy.special import gamma\n",
    "\n",
    "# Characteristic function of the Lifted Heston model see Slides 85-87\n",
    "def Ch_Lifted_Heston(omega,S0,T,rho,lamb,theta,nu,V0,N,rN,alpha,M):\n",
    "    # omega = argument of the ch. function\n",
    "    # S0 = Initial price\n",
    "    # rho,lamb,theta,nu,V0 = parameters Lifted Heston\n",
    "    # N = number of factors in the model\n",
    "    # rN = constant used to define weights and mean-reversions\n",
    "    # alpha = H+1/2 where H is the Hurst index\n",
    "    # T = maturity\n",
    "    # M = number of steps in the time discretization to calculate ch. function\n",
    "\n",
    "    # to make sure we calculate ch. function and not moment gen. function\n",
    "    i=complex(0,1)\n",
    "    omega=i*omega\n",
    "    \n",
    "    # Definition of weights and mean reversions in the approximation\n",
    "    h=np.linspace(0,N-1,N)\n",
    "    rpowerN=np.power(rN,h-N/2) \n",
    "    # weights\n",
    "    c=(rN**(1-alpha)-1)*(rpowerN**(1-alpha))/(gamma(alpha)*gamma(2-alpha))\n",
    "    # mean reversions \n",
    "    gammas=((1-alpha)/(2-alpha))*((rN**(2-alpha)-1)/(rN**(1-alpha)-1))*rpowerN\n",
    "    \n",
    "    # Definition of the initial curve\n",
    "    g = lambda t: V0+lamb*theta*np.dot(c/gammas,1-np.exp(-t*gammas))\n",
    "    \n",
    "    \n",
    "    # Time steps for the approximation of psi         \n",
    "    delta = T/M;\n",
    "    t=np.linspace(0,M,M+1)\n",
    "    t = t * delta\n",
    "    \n",
    "    # Function F\n",
    "    F = lambda u,v : 0.5*(u**2-u)+(rho*nu*u-lamb)*v+.5*nu**2*v**2\n",
    "    \n",
    "    \n",
    "    # Iteration for approximation of psi - see Slide 87\n",
    "    psi=np.zeros((M+1,N),dtype=complex)\n",
    "    \n",
    "    for k in range (1,M+1):\n",
    "        psi[k,:] = (np.ones(N)/(1+delta*gammas))*(psi[k-1,:]+delta*F(omega,np.dot(c,psi[k-1,:]))*np.ones(N))\n",
    "        \n",
    "    \n",
    "    # Invert g_0 to calculate phi - see Slide 87\n",
    "    g_0=np.zeros((1,M+1))\n",
    "    \n",
    "    for k in range(1,M+2):\n",
    "        g_0[0,k-1]=g(T-t[k-1])\n",
    "    \n",
    "    \n",
    "    Y=np.zeros((1,M+1),dtype=complex)\n",
    "    phi=0\n",
    "    \n",
    "    Y=F(omega,np.dot(c,psi.transpose()))*g_0\n",
    "   \n",
    "    \n",
    "    # Trapezoid rule to calculate phi\n",
    "    weights=np.ones(M+1)*delta\n",
    "    weights[0]=delta/2\n",
    "    weights[M]=delta/2\n",
    "    phi=np.dot(weights,Y.transpose())\n",
    "    \n",
    "    phi=np.exp(omega*np.log(S0)+phi)\n",
    "    \n",
    "    return phi"
   ]
  },
  {
   "cell_type": "code",
   "execution_count": 6,
   "metadata": {},
   "outputs": [],
   "source": [
    "def psi_Lifted_Heston(K_,r_,omega,S0,T,rho,lamb,theta,nu,V0,N,rN,alpha,M):\n",
    "    k_ = np.log(K_)\n",
    "    phi = Ch_Lifted_Heston(omega,S0,T,rho,lamb,theta,nu,V0,N,rN,alpha,M)\n",
    "    F = phi*np.exp(-1j*omega.real*k_)\n",
    "    d = (1+1j*omega.real)*(2+1j*omega.real)\n",
    "    return np.exp(-r_*T-k_)/np.pi*(F/d).real"
   ]
  },
  {
   "cell_type": "code",
   "execution_count": 7,
   "metadata": {},
   "outputs": [],
   "source": [
    "import scipy as scp\n",
    "\n",
    "def C_Lifted_Heston(K_,r_,S0,T,rho,lamb,theta,nu,V0,N,rN,alpha,M,L_):\n",
    "    I = scp.integrate.quad(lambda x: psi_Lifted_Heston(K_,r_,x-2*1j,S0,T,rho,lamb,theta,nu,V0,N,rN,alpha,M) , 0, L_)\n",
    "    return I[0]"
   ]
  },
  {
   "cell_type": "code",
   "execution_count": 8,
   "metadata": {},
   "outputs": [
    {
     "data": {
      "text/plain": [
       "11.900991179000084"
      ]
     },
     "execution_count": 8,
     "metadata": {},
     "output_type": "execute_result"
    }
   ],
   "source": [
    "C_Lifted_Heston(90,0.03,100,0.5,-0.7,2,0.04,0.5,0.04,20,2.5,0.6,100,50)"
   ]
  },
  {
   "cell_type": "code",
   "execution_count": null,
   "metadata": {},
   "outputs": [],
   "source": []
  }
 ],
 "metadata": {
  "kernelspec": {
   "display_name": "Python 3",
   "language": "python",
   "name": "python3"
  },
  "language_info": {
   "codemirror_mode": {
    "name": "ipython",
    "version": 3
   },
   "file_extension": ".py",
   "mimetype": "text/x-python",
   "name": "python",
   "nbconvert_exporter": "python",
   "pygments_lexer": "ipython3",
   "version": "3.7.7"
  }
 },
 "nbformat": 4,
 "nbformat_minor": 1
}
