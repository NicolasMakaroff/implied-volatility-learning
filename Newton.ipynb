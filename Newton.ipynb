{
 "cells": [
  {
   "cell_type": "code",
   "execution_count": 1,
   "metadata": {},
   "outputs": [],
   "source": [
    "import numpy as np\n",
    "import scipy.stats as scp "
   ]
  },
  {
   "cell_type": "markdown",
   "metadata": {},
   "source": [
    "We have \n",
    "\n",
    "$$\\left\\lbrace\\begin{array}{l}\n",
    "d_1 = \\frac{1}{\\sigma\\sqrt{\\tau}}(ln(\\frac{S}{K} + (r+\\frac{\\sigma^2}{2})\\tau) \\\\[.1cm]\n",
    "d_2= \\frac{1}{\\sigma\\sqrt{\\tau}}(ln(\\frac{S}{K} + (r+\\frac{\\sigma^2}{2})\\tau)\n",
    "\\end{array}\\right.$$\n",
    "\n",
    "with $\\tau = T - t$\n",
    "\n",
    "Noticed that $d_2 = d_1 - \\sigma\\sqrt{\\tau}$"
   ]
  },
  {
   "cell_type": "code",
   "execution_count": 2,
   "metadata": {},
   "outputs": [],
   "source": [
    "def d(S_, K_, r_,sigma_ ,tau_):\n",
    "    d1_ = 1 / (sigma_ * np.sqrt(tau_)) * ( np.log(S_/K_) + (r_ + sigma_**2/2) * tau_)\n",
    "    d2_ = d1_ - sigma_ * np.sqrt(tau_)\n",
    "    return d1_, d2_"
   ]
  },
  {
   "cell_type": "markdown",
   "metadata": {},
   "source": [
    "We have\n",
    "$$\\boxed{v(\\sigma) = S\\phi(d_1) - Ke^{-r\\tau}\\phi(d_2)}$$\n",
    "\n",
    "with\n",
    "$$\\phi(x) = \\frac{1}{\\sqrt{2\\pi}}\\int_{-\\infty}^{x}e^{-\\frac{u^2}{2}}du$$"
   ]
  },
  {
   "cell_type": "code",
   "execution_count": 3,
   "metadata": {},
   "outputs": [],
   "source": [
    "def call_option(S_, K_, r_,sigma_ ,tau_ ,d1_,d2_):\n",
    "    return scp.norm.cdf(d1_) * S_ - scp.norm.cdf(d2_) * K_ * np.exp(-r_ *tau_)"
   ]
  },
  {
   "cell_type": "markdown",
   "metadata": {},
   "source": [
    "We define the option's Vega by :\n",
    "$$\\boxed{g'(\\sigma) = S\\psi(d_1)\\sqrt{\\tau}}$$\n",
    "\n",
    "where\n",
    "$$\\left\\lbrace\\begin{array}{l}\n",
    "g(\\sigma) = v(\\sigma) - v^{mkt} \\\\[.1cm]\n",
    "\\psi(x) = \\frac{1}{\\sqrt{2\\pi}}e^{-\\frac{x^2}{2}}\\\\\n",
    "d_1 = \\frac{1}{\\sigma\\sqrt{\\tau}}(ln(\\frac{S}{K} + (r+\\frac{\\sigma^2}{2})\\tau)\n",
    "\\end{array}\\right.$$\n"
   ]
  },
  {
   "cell_type": "code",
   "execution_count": 4,
   "metadata": {},
   "outputs": [],
   "source": [
    "def call_vega(S_, tau_ , d1_):\n",
    "    return S_ * scp.norm.pdf(d1_) * np.sqrt(tau_)"
   ]
  },
  {
   "cell_type": "markdown",
   "metadata": {},
   "source": [
    "Newton-Raphson's method :\n",
    "\n",
    "$$\\sigma_{n+1}=\\sigma_n - \\frac{g(\\sigma)}{g'(\\sigma)}$$\n",
    "\n",
    "or\n",
    "\n",
    "$$\\boxed{\\sigma_{n+1}= \\sigma_n - \\frac{v(\\sigma)-v^{mkt}}{S\\psi(d_1)}\\sqrt{\\tau}}$$"
   ]
  },
  {
   "cell_type": "code",
   "execution_count": 5,
   "metadata": {},
   "outputs": [],
   "source": [
    "def Newton_Raphson(S_,K_,r_,tau_, sigma0_ ,price_, epsilon_):\n",
    "    d1_,d2_ = d(S_, K_, r_,sigma0_ ,tau_)\n",
    "    g = call_option(S_, K_, r_,sigma0_ ,tau_,d1_,d2_)-price_\n",
    "    sigma_ = sigma0_ - g/call_vega(S_,tau_, d1_)\n",
    "    while np.abs(sigma_-sigma0_)/sigma0_ > epsilon_:\n",
    "        sigma0_ = sigma_\n",
    "        d1_,d2_ = d(S_, K_, r_,sigma0_ ,tau_)\n",
    "        g = call_option(S_, K_, r_,sigma0_ ,tau_,d1_,d2_)-price_\n",
    "        sigma_ = sigma0_ - g/call_vega(S_,tau_, d1_)\n",
    "    return sigma_\n"
   ]
  },
  {
   "cell_type": "code",
   "execution_count": 6,
   "metadata": {},
   "outputs": [
    {
     "data": {
      "text/plain": [
       "0.20015597622419934"
      ]
     },
     "execution_count": 6,
     "metadata": {},
     "output_type": "execute_result"
    }
   ],
   "source": [
    "Newton_Raphson(194.11,210,0.01,60/365,0.5,1.50,1e-6)"
   ]
  },
  {
   "cell_type": "code",
   "execution_count": null,
   "metadata": {},
   "outputs": [],
   "source": []
  }
 ],
 "metadata": {
  "kernelspec": {
   "display_name": "Python 3",
   "language": "python",
   "name": "python3"
  },
  "language_info": {
   "codemirror_mode": {
    "name": "ipython",
    "version": 3
   },
   "file_extension": ".py",
   "mimetype": "text/x-python",
   "name": "python",
   "nbconvert_exporter": "python",
   "pygments_lexer": "ipython3",
   "version": "3.7.7"
  }
 },
 "nbformat": 4,
 "nbformat_minor": 4
}
