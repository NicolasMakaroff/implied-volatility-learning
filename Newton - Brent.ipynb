{
 "cells": [
  {
   "cell_type": "code",
   "execution_count": 6,
   "metadata": {},
   "outputs": [],
   "source": [
    "import numpy as np\n",
    "import scipy.stats as scp "
   ]
  },
  {
   "cell_type": "markdown",
   "metadata": {},
   "source": [
    "We have \n",
    "\n",
    "$$\\left\\lbrace\\begin{array}{l}\n",
    "d_1 = \\frac{1}{\\sigma\\sqrt{\\tau}}(ln(\\frac{S}{K} + (r+\\frac{\\sigma^2}{2})\\tau) \\\\[.1cm]\n",
    "d_2= \\frac{1}{\\sigma\\sqrt{\\tau}}(ln(\\frac{S}{K} + (r+\\frac{\\sigma^2}{2})\\tau)\n",
    "\\end{array}\\right.$$\n",
    "\n",
    "with $\\tau = T - t$\n",
    "\n",
    "Noticed that $d_2 = d_1 - \\sigma\\sqrt{\\tau}$"
   ]
  },
  {
   "cell_type": "code",
   "execution_count": 7,
   "metadata": {},
   "outputs": [],
   "source": [
    "def d(S_, K_, r_,sigma_ ,tau_):\n",
    "    d1_ = 1 / (sigma_ * np.sqrt(tau_)) * ( np.log(S_/K_) + (r_ + sigma_**2/2) * tau_)\n",
    "    d2_ = d1_ - sigma_ * np.sqrt(tau_)\n",
    "    return d1_, d2_"
   ]
  },
  {
   "cell_type": "markdown",
   "metadata": {},
   "source": [
    "We have\n",
    "$$\\boxed{v(\\sigma) = S\\phi(d_1) - Ke^{-r\\tau}\\phi(d_2)}$$\n",
    "\n",
    "with\n",
    "$$\\phi(x) = \\frac{1}{\\sqrt{2\\pi}}\\int_{-\\infty}^{x}e^{-\\frac{u^2}{2}}du$$"
   ]
  },
  {
   "cell_type": "code",
   "execution_count": 8,
   "metadata": {},
   "outputs": [],
   "source": [
    "def call_option(S_, K_, r_,sigma_ ,tau_ ,d1_,d2_):\n",
    "    return scp.norm.cdf(d1_) * S_ - scp.norm.cdf(d2_) * K_ * np.exp(-r_ *tau_)"
   ]
  },
  {
   "cell_type": "markdown",
   "metadata": {},
   "source": [
    "We define the option's Vega by :\n",
    "$$\\boxed{g'(\\sigma) = S\\psi(d_1)\\sqrt{\\tau}}$$\n",
    "\n",
    "where\n",
    "$$\\left\\lbrace\\begin{array}{l}\n",
    "g(\\sigma) = v(\\sigma) - v^{mkt} \\\\[.1cm]\n",
    "\\psi(x) = \\frac{1}{\\sqrt{2\\pi}}e^{-\\frac{x^2}{2}}\\\\\n",
    "d_1 = \\frac{1}{\\sigma\\sqrt{\\tau}}(ln(\\frac{S}{K} + (r+\\frac{\\sigma^2}{2})\\tau)\n",
    "\\end{array}\\right.$$\n"
   ]
  },
  {
   "cell_type": "code",
   "execution_count": 9,
   "metadata": {},
   "outputs": [],
   "source": [
    "def call_vega(S_, tau_ , d1_):\n",
    "    return S_ * scp.norm.pdf(d1_) * np.sqrt(tau_)"
   ]
  },
  {
   "cell_type": "markdown",
   "metadata": {},
   "source": [
    "Newton-Raphson's method :\n",
    "\n",
    "$$\\sigma_{n+1}=\\sigma_n - \\frac{g(\\sigma)}{g'(\\sigma)}$$\n",
    "\n",
    "or\n",
    "\n",
    "$$\\boxed{\\sigma_{n+1}= \\sigma_n - \\frac{v(\\sigma)-v^{mkt}}{S\\psi(d_1)}\\sqrt{\\tau}}$$"
   ]
  },
  {
   "cell_type": "code",
   "execution_count": 10,
   "metadata": {},
   "outputs": [],
   "source": [
    "def Newton_Raphson(S_,K_,r_,tau_, sigma0_ ,price_, epsilon_):\n",
    "    d1_,d2_ = d(S_, K_, r_,sigma0_ ,tau_)\n",
    "    g = call_option(S_, K_, r_,sigma0_ ,tau_,d1_,d2_)-price_\n",
    "    sigma_ = sigma0_ - g/call_vega(S_,tau_, d1_)\n",
    "    while np.abs(sigma_-sigma0_)/sigma0_ > epsilon_:\n",
    "        sigma0_ = sigma_\n",
    "        d1_,d2_ = d(S_, K_, r_,sigma0_ ,tau_)\n",
    "        g = call_option(S_, K_, r_,sigma0_ ,tau_,d1_,d2_)-price_\n",
    "        sigma_ = sigma0_ - g/call_vega(S_,tau_, d1_)\n",
    "    return sigma_\n"
   ]
  },
  {
   "cell_type": "code",
   "execution_count": 11,
   "metadata": {},
   "outputs": [
    {
     "data": {
      "text/plain": [
       "0.20015597622419934"
      ]
     },
     "execution_count": 11,
     "metadata": {},
     "output_type": "execute_result"
    }
   ],
   "source": [
    "Newton_Raphson(194.11,210,0.01,60/365,0.5,1.50,1e-6)"
   ]
  },
  {
   "cell_type": "markdown",
   "metadata": {},
   "source": [
    "Brent's method : \n",
    "\n",
    "$$\\boxed{ \\sigma_{n+1} = \\frac{\\sigma_ng(\\sigma_{n-1})g(\\sigma_{n-2})}{(g(\\sigma_{n})-g(\\sigma_{n-1}))(g(\\sigma_{n})-g(\\sigma_{n-2}))} + \\frac{\\sigma_{n-1}g(\\sigma_{n-2})g(\\sigma_{n})}{(g(\\sigma_{n-1})-g(\\sigma_{n}))(g(\\sigma_{n-1})-g(\\sigma_{n-2}))} + \\frac{\\sigma_{n-2}g(\\sigma_{n-1})g(\\sigma_{n})}{(g(\\sigma_{n-2})-g(\\sigma_{n}))(g(\\sigma_{n-2})-g(\\sigma_{n-2}))}}$$\n",
    "\n",
    "if $\\sigma_n = \\sigma_{n-1}$ :\n",
    "\n",
    "$$\\boxed{\\sigma_{n+1} = \\sigma_{n-1}\\frac{\\sigma_{n-1}-\\sigma_{n-2}}{g(\\sigma_{n-1})-g(\\sigma_{n-2})}}$$"
   ]
  },
  {
   "cell_type": "code",
   "execution_count": 20,
   "metadata": {},
   "outputs": [],
   "source": [
    "def Brent(S_,K_,r_,tau_, sigma0_,sigma1_,sigma2_ ,price_, epsilon_):\n",
    "    volatility = [sigma0_,sigma1_,sigma2_]\n",
    "    g = []\n",
    "    d1_,d2_ = d(S_, K_, r_,sigma0_ ,tau_)\n",
    "    g.append(call_option(S_, K_, r_,sigma0_ ,tau_,d1_,d2_)-price_)\n",
    "    d1_,d2_ = d(S_, K_, r_,sigma1_ ,tau_)\n",
    "    g.append(call_option(S_, K_, r_,sigma1_ ,tau_,d1_,d2_)-price_)\n",
    "    d1_,d2_ = d(S_, K_, r_,sigma2_ ,tau_)\n",
    "    g.append(call_option(S_, K_, r_,sigma2_ ,tau_,d1_,d2_)-price_)\n",
    "    i=2\n",
    "    while ((np.abs(volatility[i]-volatility[i-1]) > epsilon_) & (np.abs(volatility[i-1]-volatility[i-2]) > epsilon_)) :\n",
    "        if (volatility[i]==volatility[i-1]):\n",
    "            sigma_ = volatility[i-1]-g[i-1]*(volatility[i-1]-volatility[i-2])/(g[i-1]-g[i-2])\n",
    "        else :\n",
    "            aux0_ = volatility[i]*g[i-1]*g[i-2]/((g[i]-g[i-1])*(g[i]-g[i-2]))\n",
    "            aux1_ = volatility[i-1]*g[i-2]*g[i]/((g[i-1]-g[i-2])*(g[i-1]-g[i]))\n",
    "            aux2_ = volatility[i-2]*g[i-1]*g[i]/((g[i-2]-g[i-1])*(g[i-2]-g[i]))\n",
    "            sigma_ = aux0_ + aux1_ + aux2_\n",
    "        volatility.append(sigma_)\n",
    "        i=i+1\n",
    "        d1_,d2_ = d(S_, K_, r_,volatility[i] ,tau_)\n",
    "        g.append(call_option(S_, K_, r_,volatility[i] ,tau_,d1_,d2_)-price_)\n",
    "    return volatility\n",
    "    "
   ]
  },
  {
   "cell_type": "code",
   "execution_count": 19,
   "metadata": {},
   "outputs": [
    {
     "data": {
      "text/plain": [
       "[0.5, 0.45, 0.45]"
      ]
     },
     "execution_count": 19,
     "metadata": {},
     "output_type": "execute_result"
    }
   ],
   "source": [
    "Brent(194.11,210,0.01,60/365,0.5,0.45,0.45,1.50,1e-6)"
   ]
  },
  {
   "cell_type": "markdown",
   "metadata": {},
   "source": [
    "Choice of $\\sigma_0$\n",
    "\n",
    "We consider \n",
    "$$\\phi(x) \\approx \\frac{1}{2} + \\frac{1}{\\sqrt{2\\pi}}x $$\n",
    "\n",
    "We got $C \\approx S_0 (\\frac{1}{2} + \\frac{1}{\\sqrt{2\\pi}}d_1) - Ke^{-r\\tau}(\\frac{1}{2} + \\frac{1}{\\sqrt{2\\pi}}d_2)$\n",
    "\n",
    "$C = 0 \\Longleftrightarrow a\\sigma^2 + b\\sigma + c =0$\n",
    "\n",
    "with\n",
    "\n",
    "$$\\left\\lbrace\\begin{array}{l}\n",
    "a = S_0 + Ke^{-r\\tau} \\\\[.1cm]\n",
    "b = \\sqrt{2\\pi\\tau}(S_0-Ke^{-r\\tau}) \\\\[.1cm]\n",
    "c = (S_0 - Ke^{-r\\tau}) ( 2ln(\\frac{s_0}{K})+2r\\tau )\n",
    "\\end{array}\\right.$$"
   ]
  },
  {
   "cell_type": "markdown",
   "metadata": {},
   "source": [
    "Heston's model :\n",
    "$$\\boxed{C = SP_1 - Ke^{-r\\tau}P_2}$$\n",
    "with\n",
    "$$P_j = \\frac{1}{2} + \\frac{1}{\\pi}\\int_0^{+\\infty}Re[\\frac{e^{-i\\phi ln(K)}f_j}{i\\phi}]d\\phi$$"
   ]
  },
  {
   "cell_type": "code",
   "execution_count": 1,
   "metadata": {},
   "outputs": [],
   "source": [
    "from numpy import meshgrid, sqrt, diff\n",
    "from scipy import inf, pi, exp, linspace, zeros, real, imag, array, log\n",
    "from scipy.stats import norm\n",
    "from scipy.integrate import quad\n",
    "# from bsm import bsmprice\n",
    "\n",
    "\n",
    "def heston_phi(k, tau, v, vbar, lambd, eta, rho ):    \n",
    "    b = lambd + 1j*rho*eta*k\n",
    "    d = sqrt( b**2 + (eta**2)*k*(k-1j) )\n",
    "    g = (b - d)/(b + d)\n",
    "    T_m = (b - d)/(eta**2)\n",
    "    T = T_m * ( 1 - exp(-d*tau) )/( 1 - g*exp(-d*tau) )\n",
    "    W = lambd * vbar * ( tau*T_m - 2*log( ( 1 - g*exp(-d*tau) )/( 1 - g ) )/(eta**2) )\n",
    "    return exp(W + v*T)\n",
    "\n",
    "def heston_phi_transform(tau, x, v, vbar, lambd, eta, rho):\n",
    "    integrand = lambda k: 2 * real( exp(-1j*k*x) * heston_phi(k + 0.5*1j, tau, v, vbar, lambd, eta, rho) )/(k**2 + 1.0/4.0)\n",
    "    return quad(integrand, 0, 50)[0]\n",
    "\n",
    "\n",
    "def heston_ucall(F, K, tau, v, vbar, lambd, eta, rho):\n",
    "    '''Heston call'''\n",
    "    x = log(F/K)\n",
    "    return F - (sqrt(K*F)/(2*pi)) * heston_phi_transform(tau, x, v, vbar, lambd, eta, rho)\n",
    "\n",
    "\n",
    "def heston_call(S, K, tau, r, q, v, vbar, lambd, eta, rho):\n",
    "    '''Heston call'''\n",
    "    F = S*exp((r-q)*tau)\n",
    "    x = log(F/K)\n",
    "    integral = heston_phi_transform(tau, x, v, vbar, lambd, eta, rho)\n",
    "    return S * exp(-q*tau) - K * exp(-r*tau) * integral\n"
   ]
  },
  {
   "cell_type": "markdown",
   "metadata": {},
   "source": [
    "$P_1 = e^{-q\\tau} \\approx \\phi(d_1) \\Rightarrow q \\approx 37.68$  \n",
    "$err = 6.3e-05$"
   ]
  },
  {
   "cell_type": "code",
   "execution_count": 176,
   "metadata": {},
   "outputs": [
    {
     "data": {
      "text/plain": [
       "6.279239385492685e-05"
      ]
     },
     "execution_count": 176,
     "metadata": {},
     "output_type": "execute_result"
    }
   ],
   "source": [
    "scp.norm.cdf(d(194.11,210,0.01,0.5,60/365)[0])-191.11*np.exp(-37.68*60/365)"
   ]
  },
  {
   "cell_type": "markdown",
   "metadata": {},
   "source": [
    "$P_2 \\approx \\phi(d_2) \\Rightarrow v=1, vbar =1, lambd = 1, eta = 1, rho = 1$  \n",
    "$err = 0.044$"
   ]
  },
  {
   "cell_type": "code",
   "execution_count": 186,
   "metadata": {},
   "outputs": [
    {
     "data": {
      "text/plain": [
       "0.04428906017774675"
      ]
     },
     "execution_count": 186,
     "metadata": {},
     "output_type": "execute_result"
    }
   ],
   "source": [
    "scp.norm.cdf(d(194.11,210,0.01,0.5,60/365)[1]) - heston_phi_transform(60/365,np.log(191.11*np.exp(-37.68*60/365)/210),0,1,1,1,1)"
   ]
  },
  {
   "cell_type": "markdown",
   "metadata": {},
   "source": [
    "$C = SP_1 - Ke^{-r\\tau}P_2 = S(\\phi(d_1) + err_1) - Ke^{-r\\tau}(\\phi(d_2)+err_2)$\n",
    "$$ C = call_{BS} + S err_1 - Ke^{-r\\tau}err_2 $$"
   ]
  },
  {
   "cell_type": "code",
   "execution_count": 187,
   "metadata": {},
   "outputs": [
    {
     "data": {
      "text/plain": [
       "-56.87701833438535"
      ]
     },
     "execution_count": 187,
     "metadata": {},
     "output_type": "execute_result"
    }
   ],
   "source": [
    "heston_call(194.11,210,60/365,0.01,37.68,1,1,1,1,1)"
   ]
  },
  {
   "cell_type": "code",
   "execution_count": 188,
   "metadata": {},
   "outputs": [
    {
     "data": {
      "text/plain": [
       "9.684892969194578"
      ]
     },
     "execution_count": 188,
     "metadata": {},
     "output_type": "execute_result"
    }
   ],
   "source": [
    "d(194.11,210,0.01,0.5,60/365)[0]\n",
    "call_option(194.11,210,0.01,0.5,60/365,d(194.11,210,0.01,0.5,60/365)[0],d(194.11,210,0.01,0.5,60/365)[1])"
   ]
  },
  {
   "cell_type": "markdown",
   "metadata": {},
   "source": [
    "On a $$ S err_1 - K e^{-r\\tau} err_2 = -66.32 $$"
   ]
  },
  {
   "cell_type": "code",
   "execution_count": 189,
   "metadata": {},
   "outputs": [
    {
     "data": {
      "text/plain": [
       "-66.32557354732309"
      ]
     },
     "execution_count": 189,
     "metadata": {},
     "output_type": "execute_result"
    }
   ],
   "source": [
    "194.11*(scp.norm.cdf(d(194.11,210,0.01,0.5,60/365)[0])-191.11*np.exp(-37.68*60/365))-210*np.exp(-0.01*60/365)*scp.norm.cdf(d(194.11,210,0.01,0.5,60/365)[1]) - heston_phi_transform(60/365,np.log(191.11*np.exp(-37.68*60/365)/210),0,1,1,1,1)"
   ]
  },
  {
   "cell_type": "code",
   "execution_count": 190,
   "metadata": {},
   "outputs": [
    {
     "data": {
      "text/plain": [
       "-66.56191130357993"
      ]
     },
     "execution_count": 190,
     "metadata": {},
     "output_type": "execute_result"
    }
   ],
   "source": [
    "heston_call(194.11,210,60/365,0.01,37.68,1,1,1,1,1)-call_option(194.11,210,0.01,0.5,60/365,d(194.11,210,0.01,0.5,60/365)[0],d(194.11,210,0.01,0.5,60/365)[1])"
   ]
  },
  {
   "cell_type": "markdown",
   "metadata": {},
   "source": [
    "On a $$ C - call_{BS} = -66.56 \\approx S err_1 - K e^{-r\\tau} err_2 $$\n",
    "MODELE VALIDE"
   ]
  },
  {
   "cell_type": "markdown",
   "metadata": {},
   "source": [
    "## Heston model (cours)"
   ]
  },
  {
   "cell_type": "code",
   "execution_count": 57,
   "metadata": {},
   "outputs": [],
   "source": [
    "from scipy import integrate\n",
    "import numpy as np"
   ]
  },
  {
   "cell_type": "code",
   "execution_count": 58,
   "metadata": {},
   "outputs": [],
   "source": [
    "def phi(u,kappa_,S0_,r_,tau_,theta_,rho_,sigma_,V0_):\n",
    "    gamma_ = np.sqrt((sigma_**2)*(u**2+u*1j)+(kappa_-1j*rho_*sigma_*u)**2)\n",
    "    a = 1j*u*np.log(S0_) + 1j*u*r_*tau_+kappa_*theta_*tau_*(kappa_-1j*rho_*sigma_*u)/(sigma_**2)\n",
    "    b = (u**2+1j*u)*V0_/(gamma_*np.cosh(gamma_*tau_/2)+kappa_-1j*rho_*sigma_*u)\n",
    "    c = np.cosh(gamma_*tau_/2)+((kappa_+1j*rho_*sigma_*u)/gamma_)*np.sinh(gamma_*tau_/2)\n",
    "    d = 2*kappa_*theta_/(sigma_**2)\n",
    "    return np.exp(a)*np.exp(-b)/(c**d)"
   ]
  },
  {
   "cell_type": "code",
   "execution_count": 61,
   "metadata": {},
   "outputs": [
    {
     "data": {
      "text/plain": [
       "(47.331413541304414-11977.695000151214j)"
      ]
     },
     "execution_count": 61,
     "metadata": {},
     "output_type": "execute_result"
    }
   ],
   "source": [
    "phi(1-1j*2,2,100,0.03,0.5,0.04,-0.7,0.5,0.04)"
   ]
  },
  {
   "cell_type": "markdown",
   "metadata": {},
   "source": [
    "On va prendre $\\alpha = 1$ pour le calcul de C"
   ]
  },
  {
   "cell_type": "code",
   "execution_count": 64,
   "metadata": {},
   "outputs": [],
   "source": [
    "def psi(nu_,alpha_,K_,r_,tau_,kappa_,S0_,theta_,rho_,sigma_,V0_):\n",
    "    k_ = np.log(K_)\n",
    "    F = phi(nu_-1j*(alpha_+1),kappa_,S0_,r_,tau_,theta_,rho_,sigma_,V0_)*np.exp(-1j*nu_*k_)\n",
    "    d = (alpha_+1j*nu_)*(alpha_+1+1j*nu_)\n",
    "    return np.exp(-r_*tau_-alpha_*k_)/np.pi*(F/d).real"
   ]
  },
  {
   "cell_type": "code",
   "execution_count": 82,
   "metadata": {},
   "outputs": [
    {
     "data": {
      "image/png": "[encoded data removed]",
      "text/plain": [
       "<Figure size 432x288 with 1 Axes>"
      ]
     },
     "metadata": {
      "needs_background": "light"
     },
     "output_type": "display_data"
    }
   ],
   "source": [
    "import matplotlib.pyplot as plt\n",
    "\n",
    "x = np.linspace(0, 1, 1000)\n",
    "plt.plot(x,psi(x,0.1,90,0.03,0.5,2,100,0.04,-0.7,0.5,0.04))\n",
    "plt.show()"
   ]
  },
  {
   "cell_type": "code",
   "execution_count": 72,
   "metadata": {},
   "outputs": [
    {
     "data": {
      "image/png": "[encoded data removed]",
      "text/plain": [
       "<Figure size 432x288 with 1 Axes>"
      ]
     },
     "metadata": {
      "needs_background": "light"
     },
     "output_type": "display_data"
    }
   ],
   "source": [
    "import matplotlib.pyplot as plt\n",
    "\n",
    "x = np.linspace(0, 10, 1000)\n",
    "plt.plot(x,psi(x,1,90,0.03,0.5,2,100,0.04,-0.7,0.5,0.04))\n",
    "plt.show()"
   ]
  },
  {
   "cell_type": "code",
   "execution_count": 85,
   "metadata": {},
   "outputs": [
    {
     "data": {
      "image/png": "[encoded data removed]",
      "text/plain": [
       "<Figure size 432x288 with 1 Axes>"
      ]
     },
     "metadata": {
      "needs_background": "light"
     },
     "output_type": "display_data"
    }
   ],
   "source": [
    "import matplotlib.pyplot as plt\n",
    "\n",
    "x = np.linspace(0, 100, 1000)\n",
    "plt.plot(x,psi(x,20,90,0.03,0.5,2,100,0.04,-0.7,0.5,0.04))\n",
    "plt.show()"
   ]
  },
  {
   "cell_type": "code",
   "execution_count": 65,
   "metadata": {},
   "outputs": [
    {
     "data": {
      "text/plain": [
       "6.765506621464055"
      ]
     },
     "execution_count": 65,
     "metadata": {},
     "output_type": "execute_result"
    }
   ],
   "source": [
    "psi(1,1,90,0.03,0.5,2,100,0.04,-0.7,0.5,0.04)"
   ]
  },
  {
   "cell_type": "code",
   "execution_count": 73,
   "metadata": {},
   "outputs": [],
   "source": [
    "import scipy as scp\n",
    "\n",
    "def C(K_,alpha_,r_,tau_,kappa_,S0_,theta_,rho_,sigma_,V0_,L_):\n",
    "    I = scp.integrate.quad(lambda nu_: psi(nu_,alpha_,K_,r_,tau_,kappa_,S0_,theta_,rho_,sigma_,V0_) , 0, L_)\n",
    "    return I[0]"
   ]
  },
  {
   "cell_type": "code",
   "execution_count": 87,
   "metadata": {},
   "outputs": [
    {
     "data": {
      "text/plain": [
       "19.908821955436967"
      ]
     },
     "execution_count": 87,
     "metadata": {},
     "output_type": "execute_result"
    }
   ],
   "source": [
    "C(90,1,0.03,0.5,2,100,0.04,-0.7,0.5,0.04,50)"
   ]
  },
  {
   "cell_type": "code",
   "execution_count": null,
   "metadata": {},
   "outputs": [],
   "source": []
  }
 ],
 "metadata": {
  "kernelspec": {
   "display_name": "Python 3",
   "language": "python",
   "name": "python3"
  },
  "language_info": {
   "codemirror_mode": {
    "name": "ipython",
    "version": 3
   },
   "file_extension": ".py",
   "mimetype": "text/x-python",
   "name": "python",
   "nbconvert_exporter": "python",
   "pygments_lexer": "ipython3",
   "version": "3.7.4"
  }
 },
 "nbformat": 4,
 "nbformat_minor": 2
}
