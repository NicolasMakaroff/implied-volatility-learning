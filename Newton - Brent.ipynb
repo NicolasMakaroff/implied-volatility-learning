{
 "cells": [
  {
   "cell_type": "code",
   "execution_count": 61,
   "metadata": {},
   "outputs": [],
   "source": [
    "import numpy as np\n",
    "import scipy.stats as scp "
   ]
  },
  {
   "cell_type": "code",
   "execution_count": 62,
   "metadata": {},
   "outputs": [],
   "source": [
    "def call_option(S_, K_, r_,sigma_ ,tau_ ,d1_,d2_):\n",
    "    return scp.norm.cdf(d1_) * S_ - scp.norm.cdf(d2_) * K_ * np.exp(-r_ *tau_)\n",
    "\n",
    "def call_vega(S_, sigma_ ,tau_ , d1_):\n",
    "    return S_ * scp.norm.pdf(d1_) * sqrt(tau_)\n",
    "\n",
    "def d(S_, K_, r_,sigma_ ,tau_):\n",
    "    d1_ = 1 / (sigma_ * np.sqrt(tau_)) * ( np.log(S_/K_) + (r_ + sigma_**2/2) * tau_)\n",
    "    d2_ = d1_ - sigma_ * np.sqrt(tau_)\n",
    "    return d1_, d2_"
   ]
  },
  {
   "cell_type": "code",
   "execution_count": 67,
   "metadata": {},
   "outputs": [],
   "source": [
    "def Newton_Raphson(S_,K_,r_,tau_, sigma0_ ,price_, epsilon_):\n",
    "    d1_,d2_ = d(S_, K_, r_,sigma0_ ,tau_)\n",
    "    g = call_option(S_, K_, r_,sigma0_ ,tau_,d1_,d2_)-price_\n",
    "    sigma_ = sigma0_ - g/call_vega(S_, sigma0_ ,tau_, d1_)\n",
    "    while np.abs(sigma_-sigma0_)/sigma0_ > epsilon_:\n",
    "        sigma0_ = sigma_\n",
    "        d1_,d2_ = d(S_, K_, r_,sigma0_ ,tau_)\n",
    "        g = call_option(S_, K_, r_,sigma0_ ,tau_,d1_,d2_)-price_\n",
    "        sigma_ = sigma0_ - g/call_vega(S_, sigma0_ ,tau_, d1_)\n",
    "    return sigma_\n"
   ]
  },
  {
   "cell_type": "code",
   "execution_count": 68,
   "metadata": {},
   "outputs": [
    {
     "data": {
      "text/plain": [
       "0.20015597622419934"
      ]
     },
     "execution_count": 68,
     "metadata": {},
     "output_type": "execute_result"
    }
   ],
   "source": [
    "Newton_Raphson(194.11,210,0.01,60/365,0.5,1.50,1e-6)"
   ]
  },
  {
   "cell_type": "code",
   "execution_count": 88,
   "metadata": {},
   "outputs": [],
   "source": [
    "def Brent(S_,K_,r_,tau_, sigma0_,sigma1_,sigma2_ ,price_, epsilon_):\n",
    "    volatility = [sigma0_,sigma1_,sigma2_]\n",
    "    g = []\n",
    "    d1_,d2_ = d(S_, K_, r_,sigma0_ ,tau_)\n",
    "    g.append(call_option(S_, K_, r_,sigma0_ ,tau_,d1_,d2_)-price_)\n",
    "    d1_,d2_ = d(S_, K_, r_,sigma1_ ,tau_)\n",
    "    g.append(call_option(S_, K_, r_,sigma1_ ,tau_,d1_,d2_)-price_)\n",
    "    d1_,d2_ = d(S_, K_, r_,sigma2_ ,tau_)\n",
    "    g.append(call_option(S_, K_, r_,sigma2_ ,tau_,d1_,d2_)-price_)\n",
    "    i=2\n",
    "    while np.abs(volatility[i]-volatility[i-1])/volatility[i-1] > epsilon_:\n",
    "        if ((volatility[i]==volatility[i-1])):\n",
    "            sigma_ = volatility[i-1]-g[i-1]*(volatility[i-1]-volatility[i-2])/(g[i-1]-g[i-2])\n",
    "        else :\n",
    "            aux0_ = volatility[i]*g[i-1]*g[i-2]/((g[i]-g[i-1])*(g[i]-g[i-2]))\n",
    "            aux1_ = volatility[i-1]*g[i-2]*g[i]/((g[i-1]-g[i-2])*(g[i-1]-g[i]))\n",
    "            aux2_ = volatility[i-2]*g[i-1]*g[i]/((g[i-2]-g[i-1])*(g[i-2]-g[i]))\n",
    "            sigma_ = aux0_ + aux1_ + aux2_\n",
    "        volatility.append(sigma_)\n",
    "        i=i+1\n",
    "        d1_,d2_ = d(S_, K_, r_,volatility[i] ,tau_)\n",
    "        g.append(call_option(S_, K_, r_,volatility[i] ,tau_,d1_,d2_)-price_)\n",
    "    return volatility\n",
    "    "
   ]
  },
  {
   "cell_type": "code",
   "execution_count": 89,
   "metadata": {},
   "outputs": [
    {
     "data": {
      "text/plain": [
       "[0.5,\n",
       " 0.4,\n",
       " 0.3,\n",
       " 0.20937701493381328,\n",
       " 0.2009149104367688,\n",
       " 0.2001627676457661,\n",
       " 0.20015597702227464,\n",
       " 0.20015597622419853]"
      ]
     },
     "execution_count": 89,
     "metadata": {},
     "output_type": "execute_result"
    }
   ],
   "source": [
    "Brent(194.11,210,0.01,60/365,0.5,0.4,0.3,1.50,1e-6)"
   ]
  },
  {
   "cell_type": "code",
   "execution_count": null,
   "metadata": {},
   "outputs": [],
   "source": []
  }
 ],
 "metadata": {
  "kernelspec": {
   "display_name": "Python 3",
   "language": "python",
   "name": "python3"
  },
  "language_info": {
   "codemirror_mode": {
    "name": "ipython",
    "version": 3
   },
   "file_extension": ".py",
   "mimetype": "text/x-python",
   "name": "python",
   "nbconvert_exporter": "python",
   "pygments_lexer": "ipython3",
   "version": "3.7.4"
  }
 },
 "nbformat": 4,
 "nbformat_minor": 2
}
