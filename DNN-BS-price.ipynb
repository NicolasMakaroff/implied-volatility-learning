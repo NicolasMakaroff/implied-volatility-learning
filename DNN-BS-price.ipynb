{
 "cells": [
  {
   "cell_type": "code",
   "execution_count": null,
   "metadata": {
    "colab": {},
    "colab_type": "code",
    "id": "z4qMPLfTKf23"
   },
   "outputs": [],
   "source": [
    "import pandas as pd\n",
    "import torch\n",
    "from torchvision import datasets, transforms\n",
    "import numpy as np\n",
    "import sys\n",
    "import os\n",
    "from torch.utils.data import Dataset, DataLoader\n",
    "from torch import from_numpy, tensor\n"
   ]
  },
  {
   "cell_type": "code",
   "execution_count": 2,
   "metadata": {
    "colab": {
     "base_uri": "https://localhost:8080/",
     "height": 74
    },
    "colab_type": "code",
    "id": "JK7OeKK4KwyJ",
    "outputId": "28ed4d35-bdd2-47ae-ad20-bf4f94b5f943"
   },
   "outputs": [
    {
     "name": "stdout",
     "output_type": "stream",
     "text": [
      "fatal: destination path 'PES-metamodeling' already exists and is not an empty directory.\n",
      "/content/PES-metamodeling/src\n",
      "/content\n"
     ]
    }
   ],
   "source": [
    "!git clone https://github.com/NicolasMakaroff/PES-metamodeling.git\n",
    "%cd PES-metamodeling/src/\n",
    "sys.path.append(os.getcwd())\n",
    "%cd ../.."
   ]
  },
  {
   "cell_type": "code",
   "execution_count": 3,
   "metadata": {
    "colab": {
     "base_uri": "https://localhost:8080/",
     "height": 75
    },
    "colab_type": "code",
    "id": "iuvz7NPXLQdS",
    "outputId": "4d65bf2c-4434-4a50-b93c-205680681e9d"
   },
   "outputs": [
    {
     "name": "stderr",
     "output_type": "stream",
     "text": [
      "/usr/local/lib/python3.6/dist-packages/statsmodels/tools/_testing.py:19: FutureWarning: pandas.util.testing is deprecated. Use the functions in the public API at pandas.testing instead.\n",
      "  import pandas.util.testing as tm\n"
     ]
    }
   ],
   "source": [
    "from data_gestion import open_data, norm, create_train_test_set"
   ]
  },
  {
   "cell_type": "code",
   "execution_count": null,
   "metadata": {
    "colab": {},
    "colab_type": "code",
    "id": "XrXpk-3ULXAN"
   },
   "outputs": [],
   "source": [
    "database = open_data('/content/drive/My Drive/Colab Notebooks/PRR/implicite-volatility.csv')   "
   ]
  },
  {
   "cell_type": "code",
   "execution_count": null,
   "metadata": {
    "colab": {},
    "colab_type": "code",
    "id": "gFwyDN4pLnDJ"
   },
   "outputs": [],
   "source": [
    "train_features, train_labels, test_features, test_labels = create_train_test_set(database,0.8,1.,'price')  \n",
    "normed_train_features, normed_test_features = norm(train_features), norm(test_features)\n",
    "train_dataset = pd.concat([normed_train_features, train_labels], axis=1)\n",
    "test_dataset = pd.concat([normed_test_features, test_labels], axis=1)\n",
    "         \n",
    "train_data = train_dataset.to_numpy(dtype=np.float32) \n",
    "test_data = test_dataset.to_numpy(dtype=np.float32)   "
   ]
  },
  {
   "cell_type": "code",
   "execution_count": 7,
   "metadata": {
    "colab": {
     "base_uri": "https://localhost:8080/",
     "height": 56
    },
    "colab_type": "code",
    "id": "QENwuVTRqjRl",
    "outputId": "2478a4ad-3c17-433f-f13e-0952024a7499"
   },
   "outputs": [
    {
     "data": {
      "text/plain": [
       "\"from sklearn.preprocessing import PolynomialFeatures\\nfrom sklearn.metrics import mean_squared_error\\nfrom sklearn import linear_model\\nfor i in range(7,20):\\n  polyn = PolynomialFeatures(degree=i)\\n  x_ = polyn.fit_transform(normed_train_features) #x_ contient les degrés et produits croisés\\n  #Une fois qu'on a préparé les degrés on peut faire la régression\\n  clf = linear_model.LinearRegression()\\n  clf.fit(x_,train_labels)\\n  y_ = polyn.fit_transform(normed_test_features)\\n  y1 = clf.predict(y_)\\n  print('RMSE : {} and degree : {}' .format(mean_squared_error(y1,test_labels),i))\""
      ]
     },
     "execution_count": 7,
     "metadata": {
      "tags": []
     },
     "output_type": "execute_result"
    }
   ],
   "source": [
    "  \"\"\"from sklearn.preprocessing import PolynomialFeatures\n",
    "  from sklearn.metrics import mean_squared_error\n",
    "  from sklearn import linear_model\n",
    "  for i in range(7,20):\n",
    "    polyn = PolynomialFeatures(degree=i)\n",
    "    x_ = polyn.fit_transform(normed_train_features) #x_ contient les degrés et produits croisés\n",
    "    #Une fois qu'on a préparé les degrés on peut faire la régression\n",
    "    clf = linear_model.LinearRegression()\n",
    "    clf.fit(x_,train_labels)\n",
    "    y_ = polyn.fit_transform(normed_test_features)\n",
    "    y1 = clf.predict(y_)\n",
    "    print('RMSE : {} and degree : {}' .format(mean_squared_error(y1,test_labels),i))\"\"\""
   ]
  },
  {
   "cell_type": "code",
   "execution_count": null,
   "metadata": {
    "colab": {},
    "colab_type": "code",
    "id": "eRpDI1xpOJeM"
   },
   "outputs": [],
   "source": [
    "class VolatilityDataset(Dataset):\n",
    "    \"\"\" PES dataset.\"\"\"\n",
    "\n",
    "    # Initialize your data, download, etc.\n",
    "    def __init__(self,data):\n",
    "        xy = data\n",
    "        self.len = xy.shape[0]\n",
    "        self.x_data = from_numpy(xy[:, 0:4])\n",
    "        self.y_data = from_numpy(xy[:, [-1]])\n",
    "\n",
    "    def __getitem__(self, index):\n",
    "        return self.x_data[index], self.y_data[index]\n",
    "\n",
    "    def __len__(self):\n",
    "        return self.len\n"
   ]
  },
  {
   "cell_type": "code",
   "execution_count": null,
   "metadata": {
    "colab": {},
    "colab_type": "code",
    "id": "6ybB1JKsPwlC"
   },
   "outputs": [],
   "source": [
    "train_dataset = VolatilityDataset(train_data)\n",
    "train_loader = DataLoader(dataset=train_dataset,\n",
    "                          batch_size=512,\n",
    "                          shuffle=False,\n",
    "                          num_workers=2)\n",
    "\n",
    "test_dataset = VolatilityDataset(test_data)\n",
    "test_loader = DataLoader(dataset=test_dataset,\n",
    "                          batch_size=512,\n",
    "                          shuffle=False,\n",
    "                          num_workers=2)"
   ]
  },
  {
   "cell_type": "code",
   "execution_count": null,
   "metadata": {
    "colab": {},
    "colab_type": "code",
    "id": "xE7eVq3PQHvq"
   },
   "outputs": [],
   "source": [
    "from torch import nn, optim\n",
    "import torch.nn.functional as F\n",
    "\n",
    "class Regressor(nn.Module):\n",
    "    def __init__(self):\n",
    "        super().__init__()\n",
    "        self.fc1 = nn.Linear(4, 400)\n",
    "        self.bn1 = nn.BatchNorm1d(400)\n",
    "        self.fc2 = nn.Linear(400, 400)\n",
    "        #self.bn2 = nn.BatchNorm1d(400)\n",
    "        self.fc3 = nn.Linear(400, 400)\n",
    "        #self.bn3 = nn.BatchNorm1d(400)\n",
    "        self.fc4 = nn.Linear(400, 400)\n",
    "        #self.bn4 = nn.BatchNorm1d(400)\n",
    "        self.fc5 = nn.Linear(400,400)\n",
    "        self.fc6 = nn.Linear(400,1)\n",
    "        \n",
    "        self.drop = nn.Dropout(p=0.25)\n",
    "\n",
    "    def forward(self, x):\n",
    "        x = F.relu(self.fc1(x))\n",
    "        x = F.relu(self.fc2(x))\n",
    "        x = F.relu(self.fc3(x))\n",
    "        x = F.relu(self.fc4(x))\n",
    "        x = F.relu(self.fc5(x))\n",
    "\n",
    "        x = self.fc6(x)\n",
    "        \n",
    "        return x\n",
    "\n",
    "def init_weights(m):\n",
    "    if type(m) == nn.Linear:\n",
    "        torch.nn.init.xavier_uniform_(m.weight, gain=nn.init.calculate_gain('relu'))\n",
    "        m.bias.data.fill_(0.0)\n"
   ]
  },
  {
   "cell_type": "code",
   "execution_count": 11,
   "metadata": {
    "colab": {
     "base_uri": "https://localhost:8080/",
     "height": 36
    },
    "colab_type": "code",
    "id": "mY95Ss_N9abC",
    "outputId": "12d8594b-4ef1-4e01-9a17-71b81c1cb856"
   },
   "outputs": [
    {
     "data": {
      "text/plain": [
       "'!git clone https://github.com/awslabs/adatune.git\\n%cd adatune\\n!python setup.py install'"
      ]
     },
     "execution_count": 11,
     "metadata": {
      "tags": []
     },
     "output_type": "execute_result"
    }
   ],
   "source": [
    "\"\"\"!git clone https://github.com/awslabs/adatune.git\n",
    "%cd adatune\n",
    "!python setup.py install\"\"\""
   ]
  },
  {
   "cell_type": "code",
   "execution_count": 12,
   "metadata": {
    "colab": {
     "base_uri": "https://localhost:8080/",
     "height": 36
    },
    "colab_type": "code",
    "id": "pfLxIrbjkd4a",
    "outputId": "c5889bc8-a4d6-4850-81b7-5c62b8881080"
   },
   "outputs": [
    {
     "data": {
      "text/plain": [
       "'!pip install git+https://github.com/gbaydin/hypergradient-descent.git'"
      ]
     },
     "execution_count": 12,
     "metadata": {
      "tags": []
     },
     "output_type": "execute_result"
    }
   ],
   "source": [
    "\"\"\"!pip install git+https://github.com/gbaydin/hypergradient-descent.git\"\"\""
   ]
  },
  {
   "cell_type": "code",
   "execution_count": 13,
   "metadata": {
    "colab": {
     "base_uri": "https://localhost:8080/",
     "height": 36
    },
    "colab_type": "code",
    "id": "ik_5ELiO9iLC",
    "outputId": "e7a05a19-48c0-41c1-8ee1-9dcbef7b604d"
   },
   "outputs": [
    {
     "data": {
      "text/plain": [
       "'from hypergrad import SGDHD, AdamHD\\nfrom adatune.mu_adam import MuAdam\\nfrom adatune.network import *\\nfrom adatune.utils import *'"
      ]
     },
     "execution_count": 13,
     "metadata": {
      "tags": []
     },
     "output_type": "execute_result"
    }
   ],
   "source": [
    "\"\"\"from hypergrad import SGDHD, AdamHD\n",
    "from adatune.mu_adam import MuAdam\n",
    "from adatune.network import *\n",
    "from adatune.utils import *\"\"\""
   ]
  },
  {
   "cell_type": "code",
   "execution_count": null,
   "metadata": {
    "colab": {},
    "colab_type": "code",
    "id": "_Lc1iHBURB1U"
   },
   "outputs": [],
   "source": [
    "model = Regressor()\n",
    "\n",
    "criterion = nn.MSELoss()\n",
    "optimizer = optim.Adam(model.parameters(),lr=0.001)\n",
    "#hyper_optim = MuAdam(optimizer, 1e-6, 1000.0, 'store_true', 0.99999, 1e-6, 'cuda')"
   ]
  },
  {
   "cell_type": "code",
   "execution_count": null,
   "metadata": {
    "colab": {
     "base_uri": "https://localhost:8080/",
     "height": 1000
    },
    "colab_type": "code",
    "id": "yB4mNa9ERctI",
    "outputId": "78fbcf8a-2e9d-43e4-f8a5-3f90470a63ad"
   },
   "outputs": [
    {
     "name": "stdout",
     "output_type": "stream",
     "text": [
      "Epoch: 1/1500..  Training Loss: -6.312..  Test Loss: -11.684..  Learning rate: 0.001..\n",
      "Validation loss decreased (inf --> 8.430831258010585e-06).  Saving model ...\n",
      "Epoch: 2/1500..  Training Loss: -11.427..  Test Loss: -11.980..  Learning rate: 0.001..\n",
      "Validation loss decreased (8.430831258010585e-06 --> 6.266423497436335e-06).  Saving model ...\n",
      "Epoch: 3/1500..  Training Loss: -11.139..  Test Loss: -12.005..  Learning rate: 0.001..\n",
      "Validation loss decreased (6.266423497436335e-06 --> 6.1146774896769784e-06).  Saving model ...\n",
      "Epoch: 4/1500..  Training Loss: -11.081..  Test Loss: -12.047..  Learning rate: 0.001..\n",
      "Validation loss decreased (6.1146774896769784e-06 --> 5.860484634467866e-06).  Saving model ...\n",
      "Epoch: 5/1500..  Training Loss: -11.363..  Test Loss: -12.392..  Learning rate: 0.001..\n",
      "Validation loss decreased (5.860484634467866e-06 --> 4.1510897972329985e-06).  Saving model ...\n",
      "Epoch: 6/1500..  Training Loss: -11.497..  Test Loss: -12.386..  Learning rate: 0.001..\n",
      "Epoch: 7/1500..  Training Loss: -11.514..  Test Loss: -12.822..  Learning rate: 0.001..\n",
      "Validation loss decreased (4.1510897972329985e-06 --> 2.6997529403161025e-06).  Saving model ...\n",
      "Epoch: 8/1500..  Training Loss: -12.161..  Test Loss: -13.204..  Learning rate: 0.001..\n",
      "Validation loss decreased (2.6997529403161025e-06 --> 1.8436290929457755e-06).  Saving model ...\n",
      "Epoch: 9/1500..  Training Loss: -12.241..  Test Loss: -12.479..  Learning rate: 0.001..\n",
      "Epoch: 10/1500..  Training Loss: -12.351..  Test Loss: -13.873..  Learning rate: 0.001..\n",
      "Validation loss decreased (1.8436290929457755e-06 --> 9.440224744139414e-07).  Saving model ...\n",
      "Epoch: 11/1500..  Training Loss: -12.529..  Test Loss: -12.997..  Learning rate: 0.001..\n",
      "Epoch: 12/1500..  Training Loss: -12.633..  Test Loss: -14.014..  Learning rate: 0.001..\n",
      "Validation loss decreased (9.440224744139414e-07 --> 8.19777085325768e-07).  Saving model ...\n",
      "Epoch: 13/1500..  Training Loss: -12.874..  Test Loss: -12.692..  Learning rate: 0.001..\n",
      "Epoch: 14/1500..  Training Loss: -12.899..  Test Loss: -14.124..  Learning rate: 0.001..\n",
      "Validation loss decreased (8.19777085325768e-07 --> 7.348666031248285e-07).  Saving model ...\n",
      "Epoch: 15/1500..  Training Loss: -13.070..  Test Loss: -13.715..  Learning rate: 0.001..\n",
      "Epoch: 16/1500..  Training Loss: -13.307..  Test Loss: -13.900..  Learning rate: 0.001..\n",
      "Epoch: 17/1500..  Training Loss: -13.154..  Test Loss: -12.805..  Learning rate: 0.001..\n",
      "Epoch: 18/1500..  Training Loss: -13.035..  Test Loss: -14.362..  Learning rate: 0.001..\n",
      "Validation loss decreased (7.348666031248285e-07 --> 5.791944772681745e-07).  Saving model ...\n",
      "Epoch: 19/1500..  Training Loss: -13.691..  Test Loss: -14.205..  Learning rate: 0.001..\n",
      "Epoch: 20/1500..  Training Loss: -13.464..  Test Loss: -14.206..  Learning rate: 0.001..\n",
      "Epoch: 21/1500..  Training Loss: -13.723..  Test Loss: -14.552..  Learning rate: 0.001..\n",
      "Validation loss decreased (5.791944772681745e-07 --> 4.787186185239989e-07).  Saving model ...\n",
      "Epoch: 22/1500..  Training Loss: -13.485..  Test Loss: -14.716..  Learning rate: 0.001..\n",
      "Validation loss decreased (4.787186185239989e-07 --> 4.0623970676278987e-07).  Saving model ...\n",
      "Epoch: 23/1500..  Training Loss: -13.715..  Test Loss: -15.065..  Learning rate: 0.001..\n",
      "Validation loss decreased (4.0623970676278987e-07 --> 2.8679124852715177e-07).  Saving model ...\n",
      "Epoch: 24/1500..  Training Loss: -13.858..  Test Loss: -15.107..  Learning rate: 0.001..\n",
      "Validation loss decreased (2.8679124852715177e-07 --> 2.7474976604935364e-07).  Saving model ...\n",
      "Epoch: 25/1500..  Training Loss: -13.689..  Test Loss: -14.900..  Learning rate: 0.001..\n",
      "Epoch: 26/1500..  Training Loss: -13.768..  Test Loss: -14.768..  Learning rate: 0.001..\n",
      "Epoch: 27/1500..  Training Loss: -13.790..  Test Loss: -14.442..  Learning rate: 0.001..\n",
      "Epoch: 28/1500..  Training Loss: -13.984..  Test Loss: -14.764..  Learning rate: 0.001..\n",
      "Epoch: 29/1500..  Training Loss: -13.808..  Test Loss: -14.873..  Learning rate: 0.001..\n",
      "Epoch: 30/1500..  Training Loss: -13.960..  Test Loss: -14.281..  Learning rate: 0.001..\n",
      "Epoch: 31/1500..  Training Loss: -13.881..  Test Loss: -14.627..  Learning rate: 0.001..\n",
      "Epoch: 32/1500..  Training Loss: -14.160..  Test Loss: -15.379..  Learning rate: 0.001..\n",
      "Validation loss decreased (2.7474976604935364e-07 --> 2.0938325917541079e-07).  Saving model ...\n",
      "Epoch: 33/1500..  Training Loss: -13.962..  Test Loss: -15.424..  Learning rate: 0.001..\n",
      "Validation loss decreased (2.0938325917541079e-07 --> 2.0026284630603186e-07).  Saving model ...\n",
      "Epoch: 34/1500..  Training Loss: -14.011..  Test Loss: -14.745..  Learning rate: 0.001..\n",
      "Epoch: 35/1500..  Training Loss: -13.991..  Test Loss: -15.200..  Learning rate: 0.001..\n",
      "Epoch: 36/1500..  Training Loss: -13.992..  Test Loss: -14.700..  Learning rate: 0.001..\n",
      "Epoch: 37/1500..  Training Loss: -14.171..  Test Loss: -15.082..  Learning rate: 0.001..\n",
      "Epoch: 38/1500..  Training Loss: -14.070..  Test Loss: -14.470..  Learning rate: 0.001..\n",
      "Epoch: 39/1500..  Training Loss: -14.173..  Test Loss: -15.049..  Learning rate: 0.001..\n",
      "Epoch: 40/1500..  Training Loss: -14.186..  Test Loss: -14.716..  Learning rate: 0.001..\n"
     ]
    }
   ],
   "source": [
    "epochs = 1500\n",
    "test_loss_min = np.Inf\n",
    "steps = 0\n",
    "model.apply(init_weights)\n",
    "model.to('cuda')\n",
    "train_losses, test_losses = [], []\n",
    "#vg = ValidationGradient(test_loader, criterion, 'cuda')\n",
    "scheduler = optim.lr_scheduler.ReduceLROnPlateau(optimizer, mode='min', factor=0.1, patience=200)\n",
    "for e in range(epochs):\n",
    "    running_loss = 0\n",
    "    for features, labels in train_loader:\n",
    "        optimizer.zero_grad() # dé-commenter si on utilise pas Adatune\n",
    "        features,labels = features.to('cuda'), labels.to('cuda')\n",
    "        MSE = model(features)\n",
    "        loss = criterion(MSE, labels)\n",
    "\n",
    "        # a commenter si on utilise pas adatune\n",
    "        ###\n",
    "        \"\"\"first_grad = ag.grad(loss, model.parameters(), create_graph=True, retain_graph=True)\n",
    "        hyper_optim.compute_hg(model, first_grad)\n",
    "        for params, gradients in zip(model.parameters(), first_grad):\n",
    "            params.grad = gradients\n",
    "        optimizer.step()\n",
    "        hyper_optim.hyper_step(vg.val_grad(model))\n",
    "        clear_grad(model)\"\"\"\n",
    "        ###\n",
    "        \n",
    "        # décommenter pour utiliser adamHD\n",
    "        loss.backward()\n",
    "        #torch.nn.utils.clip_grad_norm_(model.parameters(), 2000)\n",
    "        optimizer.step()\n",
    "        \n",
    "        running_loss += loss.item()\n",
    "        \n",
    "    else:\n",
    "        test_loss = 0\n",
    "\n",
    "        \n",
    "        # Turn off gradients for validation, saves memory and computations\n",
    "        with torch.no_grad():\n",
    "            model.eval()\n",
    "            for features, labels in test_loader:\n",
    "                features,labels = features.to('cuda'), labels.to('cuda')\n",
    "                MSE = model(features)\n",
    "                test_loss += criterion(MSE, labels)\n",
    "        #scheduler.step(test_loss)\n",
    "        model.train()        \n",
    "        train_losses.append(running_loss/len(train_loader))\n",
    "        test_loss = test_loss/len(test_loader)\n",
    "        test_losses.append(test_loss/len(test_loader))\n",
    "        scheduler.step(test_loss)\n",
    "        print(\"Epoch: {}/{}.. \".format(e+1, epochs),\n",
    "              \"Training Loss: {:.3f}.. \".format(np.log(running_loss/len(train_loader))),\n",
    "              \"Test Loss: {:.3f}.. \".format(torch.log(test_loss)),\n",
    "              \"Learning rate: {}..\".format(optimizer.param_groups[0]['lr']))\n",
    "        # save model if validation loss has decreased\n",
    "        if test_loss <= test_loss_min:\n",
    "            print('Validation loss decreased ({} --> {}).  Saving model ...'.format(test_loss_min,test_loss))\n",
    "            torch.save(model.state_dict(), 'model5Percent.pt')\n",
    "            test_loss_min = test_loss"
   ]
  },
  {
   "cell_type": "code",
   "execution_count": null,
   "metadata": {
    "colab": {},
    "colab_type": "code",
    "id": "-uK3La0vs-lo"
   },
   "outputs": [],
   "source": [
    "plt.plot(test_losses)\n",
    "plt.plot(train_losses)"
   ]
  },
  {
   "cell_type": "code",
   "execution_count": null,
   "metadata": {
    "colab": {},
    "colab_type": "code",
    "id": "4E5wrJZEtBek"
   },
   "outputs": [],
   "source": []
  }
 ],
 "metadata": {
  "accelerator": "GPU",
  "colab": {
   "collapsed_sections": [],
   "name": "DNN-implicite-volatility.ipynb",
   "provenance": []
  },
  "kernelspec": {
   "display_name": "Python 3",
   "language": "python",
   "name": "python3"
  },
  "language_info": {
   "codemirror_mode": {
    "name": "ipython",
    "version": 3
   },
   "file_extension": ".py",
   "mimetype": "text/x-python",
   "name": "python",
   "nbconvert_exporter": "python",
   "pygments_lexer": "ipython3",
   "version": "3.7.4"
  }
 },
 "nbformat": 4,
 "nbformat_minor": 4
}
