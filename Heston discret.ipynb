{
 "cells": [
  {
   "cell_type": "code",
   "execution_count": 20,
   "metadata": {},
   "outputs": [],
   "source": [
    "import numpy as np\n",
    "import scipy.stats as scp "
   ]
  },
  {
   "cell_type": "markdown",
   "metadata": {},
   "source": [
    "We define $$X_T = (X_T^{(1)}, \\dots , X_T^{(N)})$$"
   ]
  },
  {
   "cell_type": "markdown",
   "metadata": {},
   "source": [
    "We have\n",
    "$$\\left\\lbrace\\begin{array}{l}\n",
    "X_{\\tau_j} = X_{\\tau_{j-1}} + (r-\\frac{V_{\\tau_{j-1}}}{2}) \\Delta t + \\sqrt{V_{\\tau_{j-1}}^+} \\Delta W_{j} \\\\[.1cm]\n",
    "V_{\\tau_j} = V_{\\tau_{j-1}} + \\kappa (\\theta - V_{\\tau_{j-1}}) \\Delta t + \\sigma \\sqrt{V_{\\tau_{j-1}}^+} (\\rho \\Delta W_{j} + \\sqrt{1-\\rho^2} \\Delta W_{j} ^ {\\perp})\n",
    "\\end{array}\\right.$$\n",
    "\n",
    "with $\\Delta W_{j} \\sim N(0,\\Delta t)$"
   ]
  },
  {
   "cell_type": "code",
   "execution_count": 23,
   "metadata": {},
   "outputs": [],
   "source": [
    "def Heston_discret1(kappa_,theta_,sigma_,rho_,r_,T_,L_,V0_,S0_):\n",
    "    V = [V0_]\n",
    "    X = [np.log(S0_)]\n",
    "    delta_t_ = T_/L_\n",
    "    delta_W_ = np.array([scp.norm.rvs(loc = 0, scale = np.sqrt(delta_t_), size = L_)]).T\n",
    "    delta_W_orth_ = np.array([scp.norm.rvs(loc = 0, scale = np.sqrt(delta_t_), size = L_)]).T\n",
    "    for i in range(L_):\n",
    "        Vi_ = V[i]+kappa_*(theta_-V[i])*delta_t_ + sigma_*np.sqrt(max(V[i],0))*(rho_*delta_W_[i][0] + np.sqrt(1-rho_**2)*delta_W_orth_[i][0])\n",
    "        V.append(Vi_)\n",
    "        Xi_ = X[i] + (r_-1/2*V[i])*delta_t_ + np.sqrt(max(V[i],0)) * delta_W_[i][0]\n",
    "        X.append(Xi_)\n",
    "    return X[L_]"
   ]
  },
  {
   "cell_type": "code",
   "execution_count": 24,
   "metadata": {},
   "outputs": [
    {
     "data": {
      "text/plain": [
       "4.7594720065896094"
      ]
     },
     "execution_count": 24,
     "metadata": {},
     "output_type": "execute_result"
    }
   ],
   "source": [
    "X = Heston_discret1(2,0.04,0.5,-0.7,0.03,0.5,100,0.04,100)\n",
    "X"
   ]
  },
  {
   "cell_type": "markdown",
   "metadata": {},
   "source": [
    "We define $$f(X_T) = (e^{X_T}-K)^+$$"
   ]
  },
  {
   "cell_type": "code",
   "execution_count": 25,
   "metadata": {},
   "outputs": [],
   "source": [
    "def f(X_,K_):\n",
    "    return max(np.exp(X_)-K_,0)"
   ]
  },
  {
   "cell_type": "code",
   "execution_count": 26,
   "metadata": {},
   "outputs": [
    {
     "data": {
      "text/plain": [
       "26.68430108960358"
      ]
     },
     "execution_count": 26,
     "metadata": {},
     "output_type": "execute_result"
    }
   ],
   "source": [
    "f_ = f(X,90)\n",
    "f_"
   ]
  },
  {
   "cell_type": "markdown",
   "metadata": {},
   "source": [
    "Monte Carlo :\n",
    "$$ \\mathbb{E}[f(X_T)] = \\frac{1}{N} \\sum_{i=1}^N f(X_T^{(i)})$$"
   ]
  },
  {
   "cell_type": "code",
   "execution_count": 27,
   "metadata": {},
   "outputs": [],
   "source": [
    "def monte_carlo(kappa_,theta_,sigma_,rho_,r_,T_,L_,V0_,S0_,K0_,N_):\n",
    "    X = []\n",
    "    for i in range(N_):\n",
    "        X.append(Heston_discret1(kappa_,theta_,sigma_,rho_,r_,T_,L_,V0_,S0_))\n",
    "    s = 0\n",
    "    for i in range(N_):\n",
    "        s += f(X[i],K0_)\n",
    "    return s/N_"
   ]
  },
  {
   "cell_type": "code",
   "execution_count": 28,
   "metadata": {},
   "outputs": [
    {
     "data": {
      "text/plain": [
       "13.395895470217912"
      ]
     },
     "execution_count": 28,
     "metadata": {},
     "output_type": "execute_result"
    }
   ],
   "source": [
    "MC = monte_carlo(2,0.04,0.5,-0.7,0.03,0.5,100,0.04,100,90,10000)\n",
    "MC"
   ]
  },
  {
   "cell_type": "markdown",
   "metadata": {},
   "source": [
    "We get \n",
    "$$ C \\approx \\frac{e^{-rT}}{N}\\sum_{i=1}^N f(X_T^{(i)})$$"
   ]
  },
  {
   "cell_type": "code",
   "execution_count": 29,
   "metadata": {},
   "outputs": [],
   "source": [
    "def call(esp_,r_,T_):\n",
    "    return np.exp(-r_*T_)*esp_"
   ]
  },
  {
   "cell_type": "code",
   "execution_count": 30,
   "metadata": {},
   "outputs": [
    {
     "data": {
      "text/plain": [
       "13.196456569386248"
      ]
     },
     "execution_count": 30,
     "metadata": {},
     "output_type": "execute_result"
    }
   ],
   "source": [
    "call(MC,0.03,0.5)"
   ]
  },
  {
   "cell_type": "code",
   "execution_count": null,
   "metadata": {},
   "outputs": [],
   "source": []
  }
 ],
 "metadata": {
  "kernelspec": {
   "display_name": "Python 3",
   "language": "python",
   "name": "python3"
  },
  "language_info": {
   "codemirror_mode": {
    "name": "ipython",
    "version": 3
   },
   "file_extension": ".py",
   "mimetype": "text/x-python",
   "name": "python",
   "nbconvert_exporter": "python",
   "pygments_lexer": "ipython3",
   "version": "3.7.7"
  }
 },
 "nbformat": 4,
 "nbformat_minor": 4
}
